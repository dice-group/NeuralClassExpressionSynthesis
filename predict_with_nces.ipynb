{
 "cells": [
  {
   "cell_type": "code",
   "execution_count": 1,
   "id": "loving-battlefield",
   "metadata": {},
   "outputs": [],
   "source": [
    "from ontolearn.knowledge_base import KnowledgeBase\n",
    "from utils.dataloader import NCESDataLoaderInference\n",
    "from torch.utils.data import DataLoader\n",
    "from torch.nn.utils.rnn import pad_sequence\n",
    "import torch.nn.functional as F\n",
    "import pandas as pd"
   ]
  },
  {
   "cell_type": "code",
   "execution_count": 2,
   "id": "linear-referral",
   "metadata": {},
   "outputs": [],
   "source": [
    "from argparse import Namespace\n",
    "import json\n",
    "import torch, pandas as pd\n",
    "with open(\"settings.json\") as setting:\n",
    "    args = json.load(setting)\n",
    "args = Namespace(**args)"
   ]
  },
  {
   "cell_type": "code",
   "execution_count": 3,
   "id": "coastal-matter",
   "metadata": {},
   "outputs": [],
   "source": [
    "import numpy as np, time\n",
    "from collections import defaultdict"
   ]
  },
  {
   "cell_type": "code",
   "execution_count": 4,
   "id": "western-mainland",
   "metadata": {},
   "outputs": [],
   "source": [
    "def before_pad(arg):\n",
    "    arg_temp = []\n",
    "    for atm in arg:\n",
    "        if atm == 'PAD':\n",
    "            break\n",
    "        arg_temp.append(atm)\n",
    "    return arg_temp"
   ]
  },
  {
   "cell_type": "code",
   "execution_count": 5,
   "id": "later-gross",
   "metadata": {},
   "outputs": [],
   "source": [
    "def map_to_token(model, idx_array):\n",
    "    return model.inv_vocab[idx_array]"
   ]
  },
  {
   "cell_type": "code",
   "execution_count": 6,
   "id": "bronze-assignment",
   "metadata": {},
   "outputs": [],
   "source": [
    "def get_data(kb, embeddings, kwargs):\n",
    "    data_test_path = f\"datasets/{kb}/Test_data/Data.json\"\n",
    "    with open(data_test_path, \"r\") as file:\n",
    "        data_test = json.load(file)\n",
    "    data_test = list(data_test.items())\n",
    "    test_dataset = NCESDataLoaderInference(data_test, embeddings, kwargs)\n",
    "    num_examples = test_dataset.num_examples\n",
    "    def collate_batch(batch):\n",
    "        pos_emb_list = []\n",
    "        neg_emb_list = []\n",
    "        for pos_emb, neg_emb in batch:\n",
    "            if pos_emb.ndim != 2:\n",
    "                pos_emb = pos_emb.reshape(1, -1)\n",
    "            if neg_emb.ndim != 2:\n",
    "                neg_emb = neg_emb.reshape(1, -1)\n",
    "            pos_emb_list.append(pos_emb)\n",
    "            neg_emb_list.append(neg_emb)\n",
    "        pos_emb_list[0] = F.pad(pos_emb_list[0], (0, 0, 0, num_examples - pos_emb_list[0].shape[0]), \"constant\", 0)\n",
    "        pos_emb_list = pad_sequence(pos_emb_list, batch_first=True, padding_value=0)\n",
    "        neg_emb_list[0] = F.pad(neg_emb_list[0], (0, 0, 0, num_examples - neg_emb_list[0].shape[0]), \"constant\", 0)\n",
    "        neg_emb_list = pad_sequence(neg_emb_list, batch_first=True, padding_value=0)\n",
    "        return pos_emb_list, neg_emb_list\n",
    "    print(\"Number of learning problems: \", len(test_dataset))\n",
    "    test_dataloader = DataLoader(test_dataset, batch_size=kwargs.batch_size, num_workers=kwargs.num_workers, collate_fn=collate_batch, shuffle=False)\n",
    "    return test_dataloader"
   ]
  },
  {
   "cell_type": "code",
   "execution_count": 7,
   "id": "primary-portuguese",
   "metadata": {},
   "outputs": [],
   "source": [
    "def get_ensemble_prediction(models, x1, x2):\n",
    "    for i,model in enumerate(models):\n",
    "        model.eval()\n",
    "        if i == 0:\n",
    "            _, scores = model(x1, x2)\n",
    "        else:\n",
    "            _, sc = model(x1, x2)\n",
    "            scores = scores + sc\n",
    "    scores = scores/len(models)\n",
    "    prediction = model.inv_vocab[scores.argmax(1)]\n",
    "    return prediction, scores"
   ]
  },
  {
   "cell_type": "code",
   "execution_count": 8,
   "id": "athletic-abortion",
   "metadata": {},
   "outputs": [
    {
     "name": "stderr",
     "output_type": "stream",
     "text": [
      "* Owlready2 * Warning: optimized Cython parser module 'owlready2_optimized' is not available, defaulting to slower Python implementation\n"
     ]
    },
    {
     "name": "stdout",
     "output_type": "stream",
     "text": [
      "Number of learning problems:  111\n"
     ]
    }
   ],
   "source": [
    "kb = \"carcinogenesis\"\n",
    "embeddings = pd.read_csv(f\"datasets/{kb}/Embeddings/ConEx_entity_embeddings.csv\").set_index('Unnamed: 0')\n",
    "#args.batch_size = 4\n",
    "args.knowledge_base_path = \"datasets/\"+f\"{kb}/{kb}.owl\"\n",
    "dataloader = get_data(kb, embeddings, args)"
   ]
  },
  {
   "cell_type": "code",
   "execution_count": 9,
   "id": "iraqi-ownership",
   "metadata": {},
   "outputs": [],
   "source": [
    "pos_emb, neg_emb = next(iter(dataloader))"
   ]
  },
  {
   "cell_type": "code",
   "execution_count": 10,
   "id": "sublime-bermuda",
   "metadata": {},
   "outputs": [],
   "source": [
    "def predict_single(model_name):\n",
    "    model = torch.load(f\"datasets/{kb}/Model_weights/ConEx_{model_name}.pt\", map_location=torch.device('cpu'))\n",
    "    print(f\"Predictions with {model_name}\")\n",
    "    return model(pos_emb, neg_emb)"
   ]
  },
  {
   "cell_type": "code",
   "execution_count": null,
   "id": "earned-germany",
   "metadata": {},
   "outputs": [],
   "source": []
  },
  {
   "cell_type": "markdown",
   "id": "infectious-electricity",
   "metadata": {},
   "source": [
    "## View some predictions"
   ]
  },
  {
   "cell_type": "markdown",
   "id": "british-washington",
   "metadata": {},
   "source": [
    "### Single model"
   ]
  },
  {
   "cell_type": "code",
   "execution_count": 11,
   "id": "configured-weapon",
   "metadata": {},
   "outputs": [
    {
     "name": "stdout",
     "output_type": "stream",
     "text": [
      "Predictions with SetTransformer\n"
     ]
    }
   ],
   "source": [
    "predictions, scores = predict_single(\"SetTransformer\")"
   ]
  },
  {
   "cell_type": "code",
   "execution_count": 12,
   "id": "ideal-jewel",
   "metadata": {},
   "outputs": [
    {
     "data": {
      "text/plain": [
       "array(['Bromine', ' ', '⊔', ' ', 'Sulfide', 'PAD', 'PAD', 'PAD', 'PAD',\n",
       "       'PAD', 'PAD', 'PAD', 'PAD', 'PAD', 'PAD', 'PAD', 'PAD', 'PAD',\n",
       "       'PAD', 'PAD', 'PAD', 'PAD', 'PAD', 'PAD', 'PAD', 'PAD', 'PAD',\n",
       "       'PAD', 'PAD', 'PAD', 'PAD', 'PAD', 'PAD', 'PAD', 'PAD', 'PAD',\n",
       "       'PAD', 'PAD', 'PAD', 'PAD', 'PAD', 'PAD', 'PAD', 'PAD', 'PAD',\n",
       "       'PAD', 'PAD', 'PAD'], dtype=object)"
      ]
     },
     "execution_count": 12,
     "metadata": {},
     "output_type": "execute_result"
    }
   ],
   "source": [
    "predictions[0]"
   ]
  },
  {
   "cell_type": "code",
   "execution_count": 13,
   "id": "synthetic-british",
   "metadata": {},
   "outputs": [
    {
     "data": {
      "text/plain": [
       "array(['Di227', ' ', '⊔', ' ', '(', '∃', ' ', 'hasStructure', '.',\n",
       "       'Amine', ')', 'PAD', 'PAD', 'PAD', 'PAD', 'PAD', 'PAD', 'PAD',\n",
       "       'PAD', 'PAD', 'PAD', 'PAD', 'PAD', 'PAD', 'PAD', 'PAD', 'PAD',\n",
       "       'PAD', 'PAD', 'PAD', 'PAD', 'PAD', 'PAD', 'PAD', 'PAD', 'PAD',\n",
       "       'PAD', 'PAD', 'PAD', 'PAD', 'PAD', 'PAD', 'PAD', 'PAD', 'PAD',\n",
       "       'PAD', 'PAD', 'PAD'], dtype=object)"
      ]
     },
     "execution_count": 13,
     "metadata": {},
     "output_type": "execute_result"
    }
   ],
   "source": [
    "predictions[1]"
   ]
  },
  {
   "cell_type": "markdown",
   "id": "noted-telephone",
   "metadata": {},
   "source": [
    "### Ensemble"
   ]
  },
  {
   "cell_type": "code",
   "execution_count": 14,
   "id": "aggregate-promise",
   "metadata": {},
   "outputs": [],
   "source": [
    "def predict_ensemble(model_names):\n",
    "    models = [torch.load(f\"datasets/{kb}/Model_weights/ConEx_{name}.pt\", map_location=torch.device('cpu'))\\\n",
    "              for name in model_names]\n",
    "    print(\"Predictions with Ensemble model\")\n",
    "    return get_ensemble_prediction(models, pos_emb, neg_emb)"
   ]
  },
  {
   "cell_type": "code",
   "execution_count": 15,
   "id": "chronic-vermont",
   "metadata": {},
   "outputs": [
    {
     "name": "stdout",
     "output_type": "stream",
     "text": [
      "Predictions with Ensemble model\n"
     ]
    }
   ],
   "source": [
    "predictions_ens, scores = predict_ensemble([\"SetTransformer\", \"GRU\"])"
   ]
  },
  {
   "cell_type": "code",
   "execution_count": 16,
   "id": "committed-davis",
   "metadata": {},
   "outputs": [
    {
     "data": {
      "text/plain": [
       "array(['Bromine', ' ', '⊔', ' ', 'Sulfide', 'PAD', 'PAD', 'PAD', 'PAD',\n",
       "       'PAD', 'PAD', 'PAD', 'PAD', 'PAD', 'PAD', 'PAD', 'PAD', 'PAD',\n",
       "       'PAD', 'PAD', 'PAD', 'PAD', 'PAD', 'PAD', 'PAD', 'PAD', 'PAD',\n",
       "       'PAD', 'PAD', 'PAD', 'PAD', 'PAD', 'PAD', 'PAD', 'PAD', 'PAD',\n",
       "       'PAD', 'PAD', 'PAD', 'PAD', 'PAD', 'PAD', 'PAD', 'PAD', 'PAD',\n",
       "       'PAD', 'PAD', 'PAD'], dtype=object)"
      ]
     },
     "execution_count": 16,
     "metadata": {},
     "output_type": "execute_result"
    }
   ],
   "source": [
    "predictions_ens[0]"
   ]
  },
  {
   "cell_type": "code",
   "execution_count": 17,
   "id": "adverse-jenny",
   "metadata": {},
   "outputs": [
    {
     "data": {
      "text/plain": [
       "array(['Halide10', ' ', '⊔', ' ', '(', '∃', ' ', 'hasStructure', '.',\n",
       "       'Amine', ')', 'PAD', 'PAD', 'PAD', 'PAD', 'PAD', 'PAD', 'PAD',\n",
       "       'PAD', 'PAD', 'PAD', 'PAD', 'PAD', 'PAD', 'PAD', 'PAD', 'PAD',\n",
       "       'PAD', 'PAD', 'PAD', 'PAD', 'PAD', 'PAD', 'PAD', 'PAD', 'PAD',\n",
       "       'PAD', 'PAD', 'PAD', 'PAD', 'PAD', 'PAD', 'PAD', 'PAD', 'PAD',\n",
       "       'PAD', 'PAD', 'PAD'], dtype=object)"
      ]
     },
     "execution_count": 17,
     "metadata": {},
     "output_type": "execute_result"
    }
   ],
   "source": [
    "predictions_ens[1]"
   ]
  },
  {
   "cell_type": "code",
   "execution_count": 18,
   "id": "sound-senator",
   "metadata": {},
   "outputs": [
    {
     "name": "stdout",
     "output_type": "stream",
     "text": [
      "Predictions with Ensemble model\n"
     ]
    }
   ],
   "source": [
    "predictions_ens, scores = predict_ensemble([\"LSTM\", \"GRU\"])"
   ]
  },
  {
   "cell_type": "code",
   "execution_count": 19,
   "id": "boring-narrow",
   "metadata": {},
   "outputs": [
    {
     "data": {
      "text/plain": [
       "array(['Bromine', ' ', '⊔', ' ', 'Sulfide', 'PAD', 'PAD', 'PAD', 'PAD',\n",
       "       'PAD', 'PAD', 'PAD', 'PAD', 'PAD', 'PAD', 'PAD', 'PAD', 'PAD',\n",
       "       'PAD', 'PAD', 'PAD', 'PAD', 'PAD', 'PAD', 'PAD', 'PAD', 'PAD',\n",
       "       'PAD', 'PAD', 'PAD', 'PAD', 'PAD', 'PAD', 'PAD', 'PAD', 'PAD',\n",
       "       'PAD', 'PAD', 'PAD', 'PAD', 'PAD', 'PAD', 'PAD', 'PAD', 'PAD',\n",
       "       'PAD', 'PAD', 'PAD'], dtype=object)"
      ]
     },
     "execution_count": 19,
     "metadata": {},
     "output_type": "execute_result"
    }
   ],
   "source": [
    "predictions_ens[0]"
   ]
  },
  {
   "cell_type": "code",
   "execution_count": 20,
   "id": "compressed-columbia",
   "metadata": {},
   "outputs": [
    {
     "data": {
      "text/plain": [
       "array(['Halide10', ' ', '⊔', ' ', '(', '∃', ' ', 'hasStructure', '.',\n",
       "       'Amine', ')', 'PAD', 'PAD', 'PAD', 'PAD', 'PAD', 'PAD', 'PAD',\n",
       "       'PAD', 'PAD', 'PAD', 'PAD', 'PAD', 'PAD', 'PAD', 'PAD', 'PAD',\n",
       "       'PAD', 'PAD', 'PAD', 'PAD', 'PAD', 'PAD', 'PAD', 'PAD', 'PAD',\n",
       "       'PAD', 'PAD', 'PAD', 'PAD', 'PAD', 'PAD', 'PAD', 'PAD', 'PAD',\n",
       "       'PAD', 'PAD', 'PAD'], dtype=object)"
      ]
     },
     "execution_count": 20,
     "metadata": {},
     "output_type": "execute_result"
    }
   ],
   "source": [
    "predictions_ens[1]"
   ]
  },
  {
   "cell_type": "code",
   "execution_count": 21,
   "id": "hybrid-expansion",
   "metadata": {},
   "outputs": [
    {
     "name": "stdout",
     "output_type": "stream",
     "text": [
      "Predictions with Ensemble model\n"
     ]
    }
   ],
   "source": [
    "predictions_ens, scores = predict_ensemble([\"LSTM\", \"SetTransformer\"])"
   ]
  },
  {
   "cell_type": "code",
   "execution_count": 22,
   "id": "compatible-stamp",
   "metadata": {},
   "outputs": [
    {
     "data": {
      "text/plain": [
       "array(['Bromine', ' ', '⊔', ' ', 'Sulfide', 'PAD', 'PAD', 'PAD', 'PAD',\n",
       "       'PAD', 'PAD', 'PAD', 'PAD', 'PAD', 'PAD', 'PAD', 'PAD', 'PAD',\n",
       "       'PAD', 'PAD', 'PAD', 'PAD', 'PAD', 'PAD', 'PAD', 'PAD', 'PAD',\n",
       "       'PAD', 'PAD', 'PAD', 'PAD', 'PAD', 'PAD', 'PAD', 'PAD', 'PAD',\n",
       "       'PAD', 'PAD', 'PAD', 'PAD', 'PAD', 'PAD', 'PAD', 'PAD', 'PAD',\n",
       "       'PAD', 'PAD', 'PAD'], dtype=object)"
      ]
     },
     "execution_count": 22,
     "metadata": {},
     "output_type": "execute_result"
    }
   ],
   "source": [
    "predictions_ens[0]"
   ]
  },
  {
   "cell_type": "code",
   "execution_count": 23,
   "id": "preceding-workplace",
   "metadata": {},
   "outputs": [
    {
     "data": {
      "text/plain": [
       "array(['Di227', ' ', '⊔', ' ', '(', '∃', ' ', 'hasStructure', '.',\n",
       "       'Amine', ')', 'PAD', 'PAD', 'PAD', 'PAD', 'PAD', 'PAD', 'PAD',\n",
       "       'PAD', 'PAD', 'PAD', 'PAD', 'PAD', 'PAD', 'PAD', 'PAD', 'PAD',\n",
       "       'PAD', 'PAD', 'PAD', 'PAD', 'PAD', 'PAD', 'PAD', 'PAD', 'PAD',\n",
       "       'PAD', 'PAD', 'PAD', 'PAD', 'PAD', 'PAD', 'PAD', 'PAD', 'PAD',\n",
       "       'PAD', 'PAD', 'PAD'], dtype=object)"
      ]
     },
     "execution_count": 23,
     "metadata": {},
     "output_type": "execute_result"
    }
   ],
   "source": [
    "predictions_ens[1]"
   ]
  },
  {
   "cell_type": "code",
   "execution_count": null,
   "id": "right-surveillance",
   "metadata": {},
   "outputs": [],
   "source": []
  },
  {
   "cell_type": "code",
   "execution_count": 24,
   "id": "illegal-advocate",
   "metadata": {},
   "outputs": [
    {
     "name": "stdout",
     "output_type": "stream",
     "text": [
      "Predictions with Ensemble model\n"
     ]
    }
   ],
   "source": [
    "predictions_ens, scores = predict_ensemble([\"LSTM\", \"GRU\", \"SetTransformer\"])"
   ]
  },
  {
   "cell_type": "code",
   "execution_count": 25,
   "id": "supreme-question",
   "metadata": {},
   "outputs": [
    {
     "data": {
      "text/plain": [
       "array(['Bromine', ' ', '⊔', ' ', 'Sulfide', 'PAD', 'PAD', 'PAD', 'PAD',\n",
       "       'PAD', 'PAD', 'PAD', 'PAD', 'PAD', 'PAD', 'PAD', 'PAD', 'PAD',\n",
       "       'PAD', 'PAD', 'PAD', 'PAD', 'PAD', 'PAD', 'PAD', 'PAD', 'PAD',\n",
       "       'PAD', 'PAD', 'PAD', 'PAD', 'PAD', 'PAD', 'PAD', 'PAD', 'PAD',\n",
       "       'PAD', 'PAD', 'PAD', 'PAD', 'PAD', 'PAD', 'PAD', 'PAD', 'PAD',\n",
       "       'PAD', 'PAD', 'PAD'], dtype=object)"
      ]
     },
     "execution_count": 25,
     "metadata": {},
     "output_type": "execute_result"
    }
   ],
   "source": [
    "predictions_ens[0]"
   ]
  },
  {
   "cell_type": "code",
   "execution_count": 26,
   "id": "acute-proposition",
   "metadata": {},
   "outputs": [
    {
     "data": {
      "text/plain": [
       "array(['Halide10', ' ', '⊔', ' ', '(', '∃', ' ', 'hasStructure', '.',\n",
       "       'Amine', ')', 'PAD', 'PAD', 'PAD', 'PAD', 'PAD', 'PAD', 'PAD',\n",
       "       'PAD', 'PAD', 'PAD', 'PAD', 'PAD', 'PAD', 'PAD', 'PAD', 'PAD',\n",
       "       'PAD', 'PAD', 'PAD', 'PAD', 'PAD', 'PAD', 'PAD', 'PAD', 'PAD',\n",
       "       'PAD', 'PAD', 'PAD', 'PAD', 'PAD', 'PAD', 'PAD', 'PAD', 'PAD',\n",
       "       'PAD', 'PAD', 'PAD'], dtype=object)"
      ]
     },
     "execution_count": 26,
     "metadata": {},
     "output_type": "execute_result"
    }
   ],
   "source": [
    "predictions_ens[1]"
   ]
  },
  {
   "cell_type": "code",
   "execution_count": null,
   "id": "consistent-validity",
   "metadata": {},
   "outputs": [],
   "source": []
  }
 ],
 "metadata": {
  "kernelspec": {
   "display_name": "nces",
   "language": "python",
   "name": "nces"
  },
  "language_info": {
   "codemirror_mode": {
    "name": "ipython",
    "version": 3
   },
   "file_extension": ".py",
   "mimetype": "text/x-python",
   "name": "python",
   "nbconvert_exporter": "python",
   "pygments_lexer": "ipython3",
   "version": "3.9.4"
  }
 },
 "nbformat": 4,
 "nbformat_minor": 5
}
