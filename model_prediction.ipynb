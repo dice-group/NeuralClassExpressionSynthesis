{
 "cells": [
  {
   "cell_type": "code",
   "execution_count": 2,
   "id": "unnecessary-compatibility",
   "metadata": {},
   "outputs": [],
   "source": [
    "from ontolearn.knowledge_base import KnowledgeBase\n",
    "from utils.dataloader import CSDataLoader\n",
    "from torch.utils.data import DataLoader\n",
    "from torch.nn.utils.rnn import pad_sequence\n",
    "import pandas as pd"
   ]
  },
  {
   "cell_type": "code",
   "execution_count": 3,
   "id": "figured-musician",
   "metadata": {},
   "outputs": [],
   "source": [
    "from argparse import Namespace\n",
    "import json\n",
    "import torch, pandas as pd\n",
    "with open(\"settings.json\") as setting:\n",
    "    args = json.load(setting)\n",
    "args = Namespace(**args)"
   ]
  },
  {
   "cell_type": "code",
   "execution_count": 4,
   "id": "affected-medication",
   "metadata": {},
   "outputs": [],
   "source": [
    "import numpy as np, time\n",
    "from collections import defaultdict"
   ]
  },
  {
   "cell_type": "code",
   "execution_count": 5,
   "id": "contrary-mechanism",
   "metadata": {},
   "outputs": [],
   "source": [
    "def before_pad(arg):\n",
    "    arg_temp = []\n",
    "    for atm in arg:\n",
    "        if atm == 'PAD':\n",
    "            break\n",
    "        arg_temp.append(atm)\n",
    "    return arg_temp"
   ]
  },
  {
   "cell_type": "code",
   "execution_count": 6,
   "id": "artistic-summer",
   "metadata": {},
   "outputs": [],
   "source": [
    "def map_to_token(model, idx_array):\n",
    "    return model.inv_vocab[idx_array]"
   ]
  },
  {
   "cell_type": "code",
   "execution_count": 7,
   "id": "precious-share",
   "metadata": {},
   "outputs": [],
   "source": [
    "def collate_batch(batch):\n",
    "    pos_emb_list = []\n",
    "    neg_emb_list = []\n",
    "    target_tokens_list = []\n",
    "    target_labels = []\n",
    "    for pos_emb, neg_emb, label in batch:\n",
    "        pos_emb_list.append(pos_emb)\n",
    "        neg_emb_list.append(neg_emb)\n",
    "        target_labels.append(label)\n",
    "    pos_emb_list = pad_sequence(pos_emb_list, batch_first=True, padding_value=0)\n",
    "    neg_emb_list = pad_sequence(neg_emb_list, batch_first=True, padding_value=0)\n",
    "    target_labels = pad_sequence(target_labels, batch_first=True, padding_value=-100)\n",
    "    return pos_emb_list, neg_emb_list, target_labels"
   ]
  },
  {
   "cell_type": "code",
   "execution_count": 8,
   "id": "amber-destiny",
   "metadata": {},
   "outputs": [],
   "source": [
    "def get_data(kb, embeddings, kwargs):\n",
    "    data_test_path = f\"datasets/{kb}/Test_data/Data.json\"\n",
    "    with open(data_test_path, \"r\") as file:\n",
    "        data_test = json.load(file)\n",
    "    data_test = list(data_test.items())\n",
    "    test_dataset = CSDataLoader(data_test, embeddings, kwargs)\n",
    "    print(\"Number of learning problems: \", len(test_dataset))\n",
    "    test_dataloader = DataLoader(test_dataset, batch_size=kwargs.batch_size, num_workers=kwargs.num_workers, collate_fn=collate_batch, shuffle=False)\n",
    "    return test_dataloader"
   ]
  },
  {
   "cell_type": "code",
   "execution_count": 9,
   "id": "activated-combination",
   "metadata": {},
   "outputs": [],
   "source": [
    "def get_ensemble_prediction(models, x1, x2):\n",
    "    for i,model in enumerate(models):\n",
    "        model.eval()\n",
    "        if i == 0:\n",
    "            _, scores = model(x1, x2)\n",
    "        else:\n",
    "            _, sc = model(x1, x2)\n",
    "            scores = scores + sc\n",
    "    scores = scores/len(models)\n",
    "    prediction = model.inv_vocab[scores.argmax(1)]\n",
    "    return prediction, scores"
   ]
  },
  {
   "cell_type": "code",
   "execution_count": 10,
   "id": "inclusive-times",
   "metadata": {},
   "outputs": [
    {
     "name": "stderr",
     "output_type": "stream",
     "text": [
      "* Owlready2 * Warning: optimized Cython parser module 'owlready2_optimized' is not available, defaulting to slower Python implementation\n"
     ]
    },
    {
     "name": "stdout",
     "output_type": "stream",
     "text": [
      "Number of learning problems:  98\n"
     ]
    }
   ],
   "source": [
    "kb = \"carcinogenesis\"\n",
    "embeddings = pd.read_csv(f\"embeddings/{kb}/ConEx_entity_embeddings.csv\").set_index('Unnamed: 0')\n",
    "#args.batch_size = 4\n",
    "args.knowledge_base_path = \"datasets/\"+f\"{kb}/{kb}.owl\"\n",
    "dataloader = get_data(kb, embeddings, args)"
   ]
  },
  {
   "cell_type": "code",
   "execution_count": 11,
   "id": "statistical-optics",
   "metadata": {},
   "outputs": [],
   "source": [
    "pos_emb, neg_emb, _ = next(iter(dataloader))"
   ]
  },
  {
   "cell_type": "code",
   "execution_count": 39,
   "id": "varying-class",
   "metadata": {},
   "outputs": [],
   "source": [
    "def predict_single(model_name):\n",
    "    model = torch.load(f\"datasets/{kb}/Model_weights/{model_name}.pt\", map_location=torch.device('cpu'))\n",
    "    print(f\"Predictions with {model_name}\")\n",
    "    return model(pos_emb, neg_emb)"
   ]
  },
  {
   "cell_type": "code",
   "execution_count": null,
   "id": "innocent-navigator",
   "metadata": {},
   "outputs": [],
   "source": []
  },
  {
   "cell_type": "markdown",
   "id": "parental-worker",
   "metadata": {},
   "source": [
    "## View some predictions"
   ]
  },
  {
   "cell_type": "markdown",
   "id": "honey-tunisia",
   "metadata": {},
   "source": [
    "### Single model"
   ]
  },
  {
   "cell_type": "code",
   "execution_count": 40,
   "id": "racial-phenomenon",
   "metadata": {},
   "outputs": [
    {
     "name": "stdout",
     "output_type": "stream",
     "text": [
      "Predictions with SetTransformer\n"
     ]
    }
   ],
   "source": [
    "predictions, scores = predict_single(\"SetTransformer\")"
   ]
  },
  {
   "cell_type": "code",
   "execution_count": 41,
   "id": "consolidated-taste",
   "metadata": {},
   "outputs": [
    {
     "data": {
      "text/plain": [
       "array(['Bond-2', ' ', '⊔', ' ', 'Di67a', 'PAD', 'PAD', 'PAD', 'PAD',\n",
       "       'PAD', 'PAD', 'PAD', 'PAD', 'PAD', 'PAD', 'PAD', 'PAD', 'PAD',\n",
       "       'PAD', 'PAD', 'PAD', 'PAD', 'PAD', 'PAD', 'PAD', 'PAD', 'PAD',\n",
       "       'PAD', 'PAD', 'PAD', 'PAD', 'PAD'], dtype=object)"
      ]
     },
     "execution_count": 41,
     "metadata": {},
     "output_type": "execute_result"
    }
   ],
   "source": [
    "predictions[0]"
   ]
  },
  {
   "cell_type": "code",
   "execution_count": 42,
   "id": "bibliographic-philippines",
   "metadata": {},
   "outputs": [
    {
     "data": {
      "text/plain": [
       "array(['Iodine', ' ', '⊔', ' ', '(', '∃', ' ', 'inBond', '.', '(',\n",
       "       'Carbon-17', ' ', '⊔', ' ', 'Fluorine-92', ')', ')', 'PAD', 'PAD',\n",
       "       'PAD', 'PAD', 'PAD', 'PAD', 'PAD', 'PAD', 'PAD', 'PAD', 'PAD',\n",
       "       'PAD', 'PAD', 'PAD', 'PAD'], dtype=object)"
      ]
     },
     "execution_count": 42,
     "metadata": {},
     "output_type": "execute_result"
    }
   ],
   "source": [
    "predictions[1]"
   ]
  },
  {
   "cell_type": "markdown",
   "id": "charming-sacrifice",
   "metadata": {},
   "source": [
    "### Ensemble"
   ]
  },
  {
   "cell_type": "code",
   "execution_count": 28,
   "id": "defined-hygiene",
   "metadata": {},
   "outputs": [],
   "source": [
    "def predict_ensemble(model_names):\n",
    "    models = [torch.load(f\"datasets/{kb}/Model_weights/{name}.pt\", map_location=torch.device('cpu'))\\\n",
    "              for name in model_names]\n",
    "    print(\"Predictions with Ensemble model\")\n",
    "    return get_ensemble_prediction(models, pos_emb, neg_emb)"
   ]
  },
  {
   "cell_type": "code",
   "execution_count": 29,
   "id": "opposite-arena",
   "metadata": {},
   "outputs": [
    {
     "name": "stdout",
     "output_type": "stream",
     "text": [
      "Predictions with Ensemble model\n"
     ]
    }
   ],
   "source": [
    "predictions_ens, scores = predict_ensemble([\"SetTransformer\", \"GRU\"])"
   ]
  },
  {
   "cell_type": "code",
   "execution_count": 26,
   "id": "convertible-slovakia",
   "metadata": {},
   "outputs": [
    {
     "data": {
      "text/plain": [
       "array(['Bond-2', ' ', '⊔', ' ', 'Di67a', 'PAD', 'PAD', 'PAD', 'PAD',\n",
       "       'PAD', 'PAD', 'PAD', 'PAD', 'PAD', 'PAD', 'PAD', 'PAD', 'PAD',\n",
       "       'PAD', 'PAD', 'PAD', 'PAD', 'PAD', 'PAD', 'PAD', 'PAD', 'PAD',\n",
       "       'PAD', 'PAD', 'PAD', 'PAD', 'PAD'], dtype=object)"
      ]
     },
     "execution_count": 26,
     "metadata": {},
     "output_type": "execute_result"
    }
   ],
   "source": [
    "predictions_ens[0]"
   ]
  },
  {
   "cell_type": "code",
   "execution_count": 27,
   "id": "associate-multiple",
   "metadata": {},
   "outputs": [
    {
     "data": {
      "text/plain": [
       "array(['Iodine', ' ', '⊔', ' ', '(', '∃', ' ', 'inBond', '.', '(',\n",
       "       'Carbon-17', ' ', '⊔', ' ', 'Manganese', ')', ')', 'PAD', 'PAD',\n",
       "       'PAD', 'PAD', 'PAD', 'PAD', 'PAD', 'PAD', 'PAD', 'PAD', 'PAD',\n",
       "       'PAD', 'PAD', 'PAD', 'PAD'], dtype=object)"
      ]
     },
     "execution_count": 27,
     "metadata": {},
     "output_type": "execute_result"
    }
   ],
   "source": [
    "predictions_ens[1]"
   ]
  },
  {
   "cell_type": "code",
   "execution_count": null,
   "id": "worse-thong",
   "metadata": {},
   "outputs": [],
   "source": []
  },
  {
   "cell_type": "code",
   "execution_count": 30,
   "id": "concrete-specialist",
   "metadata": {},
   "outputs": [
    {
     "name": "stdout",
     "output_type": "stream",
     "text": [
      "Predictions with Ensemble model\n"
     ]
    }
   ],
   "source": [
    "predictions_ens, scores = predict_ensemble([\"LSTM\", \"GRU\"])"
   ]
  },
  {
   "cell_type": "code",
   "execution_count": 31,
   "id": "incorporated-cradle",
   "metadata": {},
   "outputs": [
    {
     "data": {
      "text/plain": [
       "array(['Bond-2', ' ', '⊔', ' ', 'Lead-121', 'PAD', 'PAD', 'PAD', 'PAD',\n",
       "       'PAD', 'PAD', 'PAD', 'PAD', 'PAD', 'PAD', 'PAD', 'PAD', 'PAD',\n",
       "       'PAD', 'PAD', 'PAD', 'PAD', 'PAD', 'PAD', 'PAD', 'PAD', 'PAD',\n",
       "       'PAD', 'PAD', 'PAD', 'PAD', 'PAD'], dtype=object)"
      ]
     },
     "execution_count": 31,
     "metadata": {},
     "output_type": "execute_result"
    }
   ],
   "source": [
    "predictions_ens[0]"
   ]
  },
  {
   "cell_type": "code",
   "execution_count": 32,
   "id": "legislative-mediterranean",
   "metadata": {},
   "outputs": [
    {
     "data": {
      "text/plain": [
       "array(['Iodine', ' ', '⊔', ' ', '(', '∃', ' ', 'inBond', '.', '(',\n",
       "       'Carbon-19', ' ', '⊔', ' ', 'Manganese', ')', ')', 'PAD', 'PAD',\n",
       "       'PAD', 'PAD', 'PAD', 'PAD', 'PAD', 'PAD', 'PAD', 'PAD', 'PAD',\n",
       "       'PAD', 'PAD', 'PAD', 'PAD'], dtype=object)"
      ]
     },
     "execution_count": 32,
     "metadata": {},
     "output_type": "execute_result"
    }
   ],
   "source": [
    "predictions_ens[1]"
   ]
  },
  {
   "cell_type": "code",
   "execution_count": null,
   "id": "narrow-remove",
   "metadata": {},
   "outputs": [],
   "source": []
  },
  {
   "cell_type": "code",
   "execution_count": 33,
   "id": "alone-congo",
   "metadata": {},
   "outputs": [
    {
     "name": "stdout",
     "output_type": "stream",
     "text": [
      "Predictions with Ensemble model\n"
     ]
    }
   ],
   "source": [
    "predictions_ens, scores = predict_ensemble([\"LSTM\", \"SetTransformer\"])"
   ]
  },
  {
   "cell_type": "code",
   "execution_count": 34,
   "id": "adequate-income",
   "metadata": {},
   "outputs": [
    {
     "data": {
      "text/plain": [
       "array(['Bond-2', ' ', '⊔', ' ', 'Di67a', 'PAD', 'PAD', 'PAD', 'PAD',\n",
       "       'PAD', 'PAD', 'PAD', 'PAD', 'PAD', 'PAD', 'PAD', 'PAD', 'PAD',\n",
       "       'PAD', 'PAD', 'PAD', 'PAD', 'PAD', 'PAD', 'PAD', 'PAD', 'PAD',\n",
       "       'PAD', 'PAD', 'PAD', 'PAD', 'PAD'], dtype=object)"
      ]
     },
     "execution_count": 34,
     "metadata": {},
     "output_type": "execute_result"
    }
   ],
   "source": [
    "predictions_ens[0]"
   ]
  },
  {
   "cell_type": "code",
   "execution_count": 35,
   "id": "absolute-circumstances",
   "metadata": {},
   "outputs": [
    {
     "data": {
      "text/plain": [
       "array(['Iodine', ' ', '⊔', ' ', '(', '∃', ' ', 'inBond', '.', '(',\n",
       "       'Carbon-17', ' ', '⊔', ' ', 'Fluorine', ')', ')', 'PAD', 'PAD',\n",
       "       'PAD', 'PAD', 'PAD', 'PAD', 'PAD', 'PAD', 'PAD', 'PAD', 'PAD',\n",
       "       'PAD', 'PAD', 'PAD', 'PAD'], dtype=object)"
      ]
     },
     "execution_count": 35,
     "metadata": {},
     "output_type": "execute_result"
    }
   ],
   "source": [
    "predictions_ens[1]"
   ]
  },
  {
   "cell_type": "code",
   "execution_count": null,
   "id": "opposed-examination",
   "metadata": {},
   "outputs": [],
   "source": []
  },
  {
   "cell_type": "code",
   "execution_count": 36,
   "id": "great-moderator",
   "metadata": {},
   "outputs": [
    {
     "name": "stdout",
     "output_type": "stream",
     "text": [
      "Predictions with Ensemble model\n"
     ]
    }
   ],
   "source": [
    "predictions_ens, scores = predict_ensemble([\"LSTM\", \"GRU\", \"SetTransformer\"])"
   ]
  },
  {
   "cell_type": "code",
   "execution_count": 37,
   "id": "loving-austria",
   "metadata": {},
   "outputs": [
    {
     "data": {
      "text/plain": [
       "array(['Bond-2', ' ', '⊔', ' ', 'Di67a', 'PAD', 'PAD', 'PAD', 'PAD',\n",
       "       'PAD', 'PAD', 'PAD', 'PAD', 'PAD', 'PAD', 'PAD', 'PAD', 'PAD',\n",
       "       'PAD', 'PAD', 'PAD', 'PAD', 'PAD', 'PAD', 'PAD', 'PAD', 'PAD',\n",
       "       'PAD', 'PAD', 'PAD', 'PAD', 'PAD'], dtype=object)"
      ]
     },
     "execution_count": 37,
     "metadata": {},
     "output_type": "execute_result"
    }
   ],
   "source": [
    "predictions_ens[0]"
   ]
  },
  {
   "cell_type": "code",
   "execution_count": 38,
   "id": "distant-referral",
   "metadata": {},
   "outputs": [
    {
     "data": {
      "text/plain": [
       "array(['Iodine', ' ', '⊔', ' ', '(', '∃', ' ', 'inBond', '.', '(',\n",
       "       'Carbon-17', ' ', '⊔', ' ', 'Manganese', ')', ')', 'PAD', 'PAD',\n",
       "       'PAD', 'PAD', 'PAD', 'PAD', 'PAD', 'PAD', 'PAD', 'PAD', 'PAD',\n",
       "       'PAD', 'PAD', 'PAD', 'PAD'], dtype=object)"
      ]
     },
     "execution_count": 38,
     "metadata": {},
     "output_type": "execute_result"
    }
   ],
   "source": [
    "predictions_ens[1]"
   ]
  },
  {
   "cell_type": "code",
   "execution_count": null,
   "id": "exciting-hybrid",
   "metadata": {},
   "outputs": [],
   "source": []
  }
 ],
 "metadata": {
  "kernelspec": {
   "display_name": "nces",
   "language": "python",
   "name": "nces"
  },
  "language_info": {
   "codemirror_mode": {
    "name": "ipython",
    "version": 3
   },
   "file_extension": ".py",
   "mimetype": "text/x-python",
   "name": "python",
   "nbconvert_exporter": "python",
   "pygments_lexer": "ipython3",
   "version": "3.9.4"
  }
 },
 "nbformat": 4,
 "nbformat_minor": 5
}
