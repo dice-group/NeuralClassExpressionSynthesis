{
 "cells": [
  {
   "cell_type": "code",
   "execution_count": 1,
   "id": "rotary-tradition",
   "metadata": {},
   "outputs": [],
   "source": [
    "import json\n",
    "from collections import defaultdict()"
   ]
  },
  {
   "cell_type": "code",
   "execution_count": 4,
   "id": "pharmaceutical-persian",
   "metadata": {},
   "outputs": [],
   "source": [
    "def rename_metric(metric):\n",
    "    if metric == 'F-measure':\n",
    "        return 'f1'\n",
    "    if metric == 'Accuracy':\n",
    "        return 'acc'\n",
    "    if metric == 'Runtime':\n",
    "        return 'time'\n",
    "    raise ValueError('Unknown metric')"
   ]
  },
  {
   "cell_type": "code",
   "execution_count": 58,
   "id": "sunrise-nylon",
   "metadata": {},
   "outputs": [],
   "source": [
    "def get_results(metric):\n",
    "    Res = {metric: {'Carcinogenesis': {'CELOE': '', 'ELTL': '', 'ECII': '', 'EvoLearner': '', '\\\\textbf{$\\\\textbf{NCES}_{LSTM}$}': '', '\\\\textbf{$\\\\textbf{NCES}_{GRU}$}': '',\\\n",
    "                                       '\\\\textbf{$\\\\textbf{NCES}_{ST}$}': '', '\\\\textbf{$\\\\textbf{NCES}_{ST+GRU}$}': '', '\\\\textbf{$\\\\textbf{NCES}_{ST+LSTM}$}': '',\\\n",
    "                                       '\\\\textbf{$\\\\textbf{NCES}_{GRU+LSTM}$}': '', '\\\\textbf{$\\\\textbf{NCES}_{ST+GRU+LSTM}$}': ''},\n",
    "                   'Mutagenesis': {'CELOE': '', 'ELTL': '', 'ECII': '', 'EvoLearner': '', '\\\\textbf{$\\\\textbf{NCES}_{LSTM}$}': '', '\\\\textbf{$\\\\textbf{NCES}_{GRU}$}': '',\\\n",
    "                                       '\\\\textbf{$\\\\textbf{NCES}_{ST}$}': '', '\\\\textbf{$\\\\textbf{NCES}_{ST+GRU}$}': '', '\\\\textbf{$\\\\textbf{NCES}_{ST+LSTM}$}': '',\\\n",
    "                                       '\\\\textbf{$\\\\textbf{NCES}_{GRU+LSTM}$}': '', '\\\\textbf{$\\\\textbf{NCES}_{ST+GRU+LSTM}$}': ''},\n",
    "                    'Semantic Bible': {'CELOE': '', 'ELTL': '', 'ECII': '', 'EvoLearner': '', '\\\\textbf{$\\\\textbf{NCES}_{LSTM}$}': '', '\\\\textbf{$\\\\textbf{NCES}_{GRU}$}': '',\\\n",
    "                                       '\\\\textbf{$\\\\textbf{NCES}_{ST}$}': '', '\\\\textbf{$\\\\textbf{NCES}_{ST+GRU}$}': '', '\\\\textbf{$\\\\textbf{NCES}_{ST+LSTM}$}': '',\\\n",
    "                                       '\\\\textbf{$\\\\textbf{NCES}_{GRU+LSTM}$}': '', '\\\\textbf{$\\\\textbf{NCES}_{ST+GRU+LSTM}$}': ''},\n",
    "                    'Vicodi': {'CELOE': '', 'ELTL': '', 'ECII': '', 'EvoLearner': '', '\\\\textbf{$\\\\textbf{NCES}_{LSTM}$}': '', '\\\\textbf{$\\\\textbf{NCES}_{GRU}$}': '',\\\n",
    "                                       '\\\\textbf{$\\\\textbf{NCES}_{ST}$}': '', '\\\\textbf{$\\\\textbf{NCES}_{ST+GRU}$}': '', '\\\\textbf{$\\\\textbf{NCES}_{ST+LSTM}$}': '',\\\n",
    "                                       '\\\\textbf{$\\\\textbf{NCES}_{GRU+LSTM}$}': '', '\\\\textbf{$\\\\textbf{NCES}_{ST+GRU+LSTM}$}': ''}\n",
    "                   }}\n",
    "    for kb in ['carcinogenesis', 'mutagenesis', 'semantic_bible', 'vicodi']:\n",
    "        for model in ['celoe', 'eltl', 'ecii', 'evolearner', 'NCES', 'NCES_Ensemble']:\n",
    "            if model not in ['NCES', 'NCES_Ensemble']:\n",
    "                with open(f'datasets/{kb}/Results/concept_learning_avg_results__{model}.json') as file:\n",
    "                    results = json.load(file)\n",
    "                rename_model = model.upper() if model != 'evolearner' else 'EvoLearner'\n",
    "                if model == 'ecii':\n",
    "                    if metric != 'Accuracy':\n",
    "                        Res[metric][' '.join(word.capitalize() for word in kb.split('_'))][rename_model] =\\\n",
    "                    str(round(100*results[metric]['mean'],2))+'$\\pm$'+str(round(100*results[metric]['std'],2))\n",
    "                    else:\n",
    "                        Res[metric][' '.join(word.capitalize() for word in kb.split('_'))][rename_model] =\\\n",
    "                    '-'+'$\\pm$'+'-'\n",
    "                else:\n",
    "                    Res[metric][' '.join(word.capitalize() for word in kb.split('_'))][rename_model] =\\\n",
    "                    str(round(results[metric]['mean'],2))+'$\\pm$'+str(round(results[metric]['std'],2))\n",
    "            elif model == 'NCES':\n",
    "                with open(f'datasets/{kb}/Results/{model}.json') as file:\n",
    "                    results = json.load(file)\n",
    "                new_metric = rename_metric(metric)\n",
    "                for m in results:\n",
    "                    rename_model = '\\\\textbf{$\\\\textbf{NCES}_'+'{'+m+'}$}' if m != 'SetTransformer' else '\\\\textbf{$\\\\textbf{NCES}_'+'{'+'ST'+'}$}'\n",
    "                    Res[metric][' '.join(word.capitalize() for word in kb.split('_'))][rename_model] =\\\n",
    "                    str(round(results[m][new_metric]['mean'][0],2))+'$\\pm$'+str(round(results[m][new_metric]['std'][0],2))\n",
    "            elif model == 'NCES_Ensemble':\n",
    "                with open(f'datasets/{kb}/Results/{model}.json') as file:\n",
    "                    results = json.load(file)\n",
    "                new_metric = rename_metric(metric)\n",
    "                for m in results:\n",
    "                    rename_model = '\\\\textbf{$\\\\textbf{NCES}_'+'{'+m+'}$}' if not 'SetTransformer' in m \\\n",
    "                    else '\\\\textbf{$\\\\textbf{NCES}_'+'{'+m.replace('SetTransformer', 'ST')+'}$}'\n",
    "                    Res[metric][' '.join(word.capitalize() for word in kb.split('_'))][rename_model] =\\\n",
    "                    str(round(results[m][new_metric]['mean'][0],2))+'$\\pm$'+str(round(results[m][new_metric]['std'][0],2))\n",
    "    return Res"
   ]
  },
  {
   "cell_type": "code",
   "execution_count": 59,
   "id": "purple-plasma",
   "metadata": {},
   "outputs": [],
   "source": [
    "Res1 = get_results('F-measure')"
   ]
  },
  {
   "cell_type": "code",
   "execution_count": 60,
   "id": "fancy-first",
   "metadata": {},
   "outputs": [
    {
     "data": {
      "text/plain": [
       "{'F-measure': {'Carcinogenesis': {'CELOE': '59.06$\\\\pm$38.61',\n",
       "   'ELTL': '40.36$\\\\pm$31.94',\n",
       "   'ECII': '33.1$\\\\pm$37.12',\n",
       "   'EvoLearner': '85.19$\\\\pm$21.51',\n",
       "   '\\\\textbf{$\\\\textbf{NCES}_{LSTM}$}': '82.46$\\\\pm$25.41',\n",
       "   '\\\\textbf{$\\\\textbf{NCES}_{GRU}$}': '86.53$\\\\pm$26.27',\n",
       "   '\\\\textbf{$\\\\textbf{NCES}_{ST}$}': '85.44$\\\\pm$27.92',\n",
       "   '\\\\textbf{$\\\\textbf{NCES}_{ST+GRU}$}': '97.11$\\\\pm$9.6',\n",
       "   '\\\\textbf{$\\\\textbf{NCES}_{ST+LSTM}$}': '93.94$\\\\pm$16.34',\n",
       "   '\\\\textbf{$\\\\textbf{NCES}_{GRU+LSTM}$}': '87.74$\\\\pm$24.07',\n",
       "   '\\\\textbf{$\\\\textbf{NCES}_{ST+GRU+LSTM}$}': '96.13$\\\\pm$10.65'},\n",
       "  'Mutagenesis': {'CELOE': '96.43$\\\\pm$15.81',\n",
       "   'ELTL': '33.06$\\\\pm$31.22',\n",
       "   'ECII': '26.37$\\\\pm$35.45',\n",
       "   'EvoLearner': '95.18$\\\\pm$6.19',\n",
       "   '\\\\textbf{$\\\\textbf{NCES}_{LSTM}$}': '67.11$\\\\pm$45.87',\n",
       "   '\\\\textbf{$\\\\textbf{NCES}_{GRU}$}': '64.21$\\\\pm$44.75',\n",
       "   '\\\\textbf{$\\\\textbf{NCES}_{ST}$}': '88.97$\\\\pm$25.35',\n",
       "   '\\\\textbf{$\\\\textbf{NCES}_{ST+GRU}$}': '90.58$\\\\pm$26.0',\n",
       "   '\\\\textbf{$\\\\textbf{NCES}_{ST+LSTM}$}': '97.97$\\\\pm$3.58',\n",
       "   '\\\\textbf{$\\\\textbf{NCES}_{GRU+LSTM}$}': '82.2$\\\\pm$30.62',\n",
       "   '\\\\textbf{$\\\\textbf{NCES}_{ST+GRU+LSTM}$}': '90.78$\\\\pm$26.57'},\n",
       "  'Semantic Bible': {'CELOE': '95.04$\\\\pm$9.5',\n",
       "   'ELTL': '40.91$\\\\pm$30.56',\n",
       "   'ECII': '48.25$\\\\pm$36.37',\n",
       "   'EvoLearner': '87.82$\\\\pm$12.56',\n",
       "   '\\\\textbf{$\\\\textbf{NCES}_{LSTM}$}': '79.15$\\\\pm$29.08',\n",
       "   '\\\\textbf{$\\\\textbf{NCES}_{GRU}$}': '78.62$\\\\pm$26.56',\n",
       "   '\\\\textbf{$\\\\textbf{NCES}_{ST}$}': '79.05$\\\\pm$21.34',\n",
       "   '\\\\textbf{$\\\\textbf{NCES}_{ST+GRU}$}': '81.31$\\\\pm$29.31',\n",
       "   '\\\\textbf{$\\\\textbf{NCES}_{ST+LSTM}$}': '79.96$\\\\pm$26.5',\n",
       "   '\\\\textbf{$\\\\textbf{NCES}_{GRU+LSTM}$}': '81.07$\\\\pm$26.03',\n",
       "   '\\\\textbf{$\\\\textbf{NCES}_{ST+GRU+LSTM}$}': '82.33$\\\\pm$26.51'},\n",
       "  'Vicodi': {'CELOE': '63.69$\\\\pm$30.18',\n",
       "   'ELTL': '40.98$\\\\pm$32.07',\n",
       "   'ECII': '89.08$\\\\pm$15.86',\n",
       "   'EvoLearner': '87.62$\\\\pm$12.58',\n",
       "   '\\\\textbf{$\\\\textbf{NCES}_{LSTM}$}': '84.0$\\\\pm$28.05',\n",
       "   '\\\\textbf{$\\\\textbf{NCES}_{GRU}$}': '85.82$\\\\pm$28.31',\n",
       "   '\\\\textbf{$\\\\textbf{NCES}_{ST}$}': '88.76$\\\\pm$24.0',\n",
       "   '\\\\textbf{$\\\\textbf{NCES}_{ST+GRU}$}': '94.24$\\\\pm$18.95',\n",
       "   '\\\\textbf{$\\\\textbf{NCES}_{ST+LSTM}$}': '95.42$\\\\pm$13.74',\n",
       "   '\\\\textbf{$\\\\textbf{NCES}_{GRU+LSTM}$}': '92.04$\\\\pm$20.62',\n",
       "   '\\\\textbf{$\\\\textbf{NCES}_{ST+GRU+LSTM}$}': '94.96$\\\\pm$16.44'}}}"
      ]
     },
     "execution_count": 60,
     "metadata": {},
     "output_type": "execute_result"
    }
   ],
   "source": [
    "Res1"
   ]
  },
  {
   "cell_type": "code",
   "execution_count": 63,
   "id": "flush-acrobat",
   "metadata": {},
   "outputs": [],
   "source": [
    "with open(f'F1.txt', 'w') as file:\n",
    "    file.write(\"\\\\begin{tabular}{@{}lccccccc@{}}\\n\")\n",
    "    file.write(\"(\\%)$}\\\\\\\\\")"
   ]
  },
  {
   "cell_type": "code",
   "execution_count": 73,
   "id": "checked-amendment",
   "metadata": {},
   "outputs": [],
   "source": [
    "def write_results(metric):\n",
    "    data = get_results(metric)\n",
    "    with open(f'{metric}.txt', 'w') as file:\n",
    "        for key in data:\n",
    "            file.write(\"\\\\begin{tabular}{@{}lccccccc@{}}\\n\")\n",
    "            file.write(\"\\t\\t\\\\toprule\\n\")\n",
    "            file.write(\"\\t\\t& \\\\multicolumn{4}{c}{\"+\"$\"+metric+\"(\\%)$}\\\\\\\\\\n\")\n",
    "            file.write(\"\\t\\t&\"+\" & \".join([\"\\\\textbf{\"+kb+\"}\" for kb in data[key]])+\"\\\\\\\\\\n\")\n",
    "            file.write(\"\\\\midrule\\n\")\n",
    "            for model in data[key]['Carcinogenesis']:\n",
    "                file.write(\"\\t\\t\"+model+\" & \"+\" & \".join([data[key][kb][model] for kb in data[key]])+\"\\\\\\\\\\n\")"
   ]
  },
  {
   "cell_type": "code",
   "execution_count": 74,
   "id": "instrumental-apparatus",
   "metadata": {},
   "outputs": [],
   "source": [
    "write_results('F-measure')"
   ]
  },
  {
   "cell_type": "code",
   "execution_count": 75,
   "id": "vertical-receiver",
   "metadata": {},
   "outputs": [],
   "source": [
    "write_results('Accuracy')"
   ]
  },
  {
   "cell_type": "code",
   "execution_count": 76,
   "id": "regional-advance",
   "metadata": {},
   "outputs": [],
   "source": [
    "write_results('Runtime')"
   ]
  },
  {
   "cell_type": "code",
   "execution_count": null,
   "id": "orange-extraction",
   "metadata": {},
   "outputs": [],
   "source": []
  }
 ],
 "metadata": {
  "kernelspec": {
   "display_name": "nces",
   "language": "python",
   "name": "nces"
  },
  "language_info": {
   "codemirror_mode": {
    "name": "ipython",
    "version": 3
   },
   "file_extension": ".py",
   "mimetype": "text/x-python",
   "name": "python",
   "nbconvert_exporter": "python",
   "pygments_lexer": "ipython3",
   "version": "3.9.4"
  }
 },
 "nbformat": 4,
 "nbformat_minor": 5
}
